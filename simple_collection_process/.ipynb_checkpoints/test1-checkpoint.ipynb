{
 "cells": [
  {
   "cell_type": "code",
   "execution_count": 2,
   "metadata": {},
   "outputs": [],
   "source": [
    "#import libraries\n",
    "import urllib\n",
    "import  urllib2\n",
    "\n",
    "from bs4 import BeautifulSoup\n",
    "\n",
    "import  pandas as pd\n",
    "import  csv"
   ]
  },
  {
   "cell_type": "code",
   "execution_count": 3,
   "metadata": {},
   "outputs": [],
   "source": [
    "#specify the url\n",
    "ifp_blog=\"http://ifpartners.com/cut-the-wire\"\n",
    "\n",
    "req =urllib2.Request(ifp_blog, headers={'User-Agent' : 'Mozilla/5.0'})\n",
    "\n",
    "page = urllib2.urlopen(req)\n",
    "\n",
    "soup = BeautifulSoup(page, 'html.parser')\n",
    "\n",
    "data=[]\n"
   ]
  },
  {
   "cell_type": "code",
   "execution_count": 4,
   "metadata": {},
   "outputs": [],
   "source": [
    "section=soup.find('section')\n",
    "imgs= soup.find_all('img', attrs={'class': \"attachment-post-thumbnail size-post-thumbnail wp-post-image\"})\n",
    "img_links =[each.get('src') for each in imgs]"
   ]
  },
  {
   "cell_type": "code",
   "execution_count": 5,
   "metadata": {},
   "outputs": [
    {
     "name": "stdout",
     "output_type": "stream",
     "text": [
      "http://ifpartners.com/wp-content/uploads/2017/11/DOLRuling.jpg\n",
      "HTTP Error 403: Forbidden\n",
      "http://ifpartners.com/wp-content/uploads/2017/10/markus-spiske-104910.jpg\n",
      "HTTP Error 403: Forbidden\n",
      "http://ifpartners.com/wp-content/uploads/2017/10/ProfessionalsTalking.jpg\n",
      "HTTP Error 403: Forbidden\n",
      "http://ifpartners.com/wp-content/uploads/2017/10/PantoneBooklet.jpg\n",
      "HTTP Error 403: Forbidden\n",
      "http://ifpartners.com/wp-content/uploads/2017/09/ashim-d-silva-223215.jpg\n",
      "HTTP Error 403: Forbidden\n",
      "http://ifpartners.com/wp-content/uploads/2017/06/IFPCuttheWirephotos.jpg\n",
      "HTTP Error 403: Forbidden\n",
      "http://ifpartners.com/wp-content/uploads/2017/06/Facebookadvertising.jpg\n",
      "HTTP Error 403: Forbidden\n"
     ]
    }
   ],
   "source": [
    "for each in img_links:\n",
    "    print each\n",
    "    reqs= urllib2.Request(each, headers={'User-Agent' : 'Mozilla/5.0',\n",
    "                                        'Accept': \"text/html,application/xhtml+xml,application/xml;q=0.9,*/*;q=0.8\"})\n",
    "    try:\n",
    "        images=urllib2.urlopen(each)\n",
    "        filename = each.split('/')[-1]\n",
    "        print filename\n",
    "    except urllib2.HTTPError, e:\n",
    "        print e\n",
    "        #urllib.urlretrieve(each, filename)\n"
   ]
  },
  {
   "cell_type": "code",
   "execution_count": 9,
   "metadata": {},
   "outputs": [
    {
     "data": {
      "text/plain": [
       "<function close>"
      ]
     },
     "execution_count": 9,
     "metadata": {},
     "output_type": "execute_result"
    }
   ],
   "source": [
    "import pycurl\n",
    "\n",
    "c = pycurl.Curl()\n",
    "c.setopt(c.URL,\"http://ifpartners.com/wp-content/uploads/2017/11/DOLRuling.jpg\" )\n",
    "c.close"
   ]
  },
  {
   "cell_type": "code",
   "execution_count": 16,
   "metadata": {},
   "outputs": [
    {
     "ename": "AttributeError",
     "evalue": "'NoneType' object has no attribute 'iter_content'",
     "output_type": "error",
     "traceback": [
      "\u001b[0;31m\u001b[0m",
      "\u001b[0;31mAttributeError\u001b[0mTraceback (most recent call last)",
      "\u001b[0;32m<ipython-input-16-27319eb6e902>\u001b[0m in \u001b[0;36m<module>\u001b[0;34m()\u001b[0m\n\u001b[1;32m      8\u001b[0m             \u001b[0;32mprint\u001b[0m \u001b[0mresponse\u001b[0m\u001b[0;34m\u001b[0m\u001b[0m\n\u001b[1;32m      9\u001b[0m \u001b[0;34m\u001b[0m\u001b[0m\n\u001b[0;32m---> 10\u001b[0;31m         \u001b[0;32mfor\u001b[0m \u001b[0mblock\u001b[0m \u001b[0;32min\u001b[0m \u001b[0mresponse\u001b[0m\u001b[0;34m.\u001b[0m\u001b[0miter_content\u001b[0m\u001b[0;34m(\u001b[0m\u001b[0;36m1024\u001b[0m\u001b[0;34m)\u001b[0m\u001b[0;34m:\u001b[0m\u001b[0;34m\u001b[0m\u001b[0m\n\u001b[0m\u001b[1;32m     11\u001b[0m             \u001b[0;32mif\u001b[0m \u001b[0;32mnot\u001b[0m \u001b[0mblock\u001b[0m\u001b[0;34m:\u001b[0m\u001b[0;34m\u001b[0m\u001b[0m\n\u001b[1;32m     12\u001b[0m                 \u001b[0;32mbreak\u001b[0m\u001b[0;34m\u001b[0m\u001b[0m\n",
      "\u001b[0;31mAttributeError\u001b[0m: 'NoneType' object has no attribute 'iter_content'"
     ]
    }
   ],
   "source": [
    "pic_url = \"http://ifpartners.com/wp-content/uploads/2017/11/DOLRuling.jpg\"\n",
    "requests= urllib2.Request(each, headers={'User-Agent' : 'Mozilla/5.0',\n",
    "                                        'Accept': \"text/html,application/xhtml+xml,application/xml;q=0.9,*/*;q=0.8\"})\n",
    "with open('pic1.jpg', 'wb') as handle:\n",
    "        response = requests.get_data()\n",
    "\n",
    "        if response:\n",
    "            print response\n",
    "\n",
    "        for block in response.iter_content(1024):\n",
    "            if not block:\n",
    "                break\n",
    "\n",
    "            handle.write(block)"
   ]
  },
  {
   "cell_type": "code",
   "execution_count": 17,
   "metadata": {},
   "outputs": [],
   "source": [
    "import urllib\n",
    "resource = urllib.urlopen(\"http://ifpartners.com/wp-content/uploads/2017/11/DOLRuling.jpg\")\n",
    "output = open(\"file01.jpg\",\"wb\")\n",
    "output.write(resource.read())\n",
    "output.close()"
   ]
  }
 ],
 "metadata": {
  "kernelspec": {
   "display_name": "Python 2",
   "language": "python",
   "name": "python2"
  },
  "language_info": {
   "codemirror_mode": {
    "name": "ipython",
    "version": 2
   },
   "file_extension": ".py",
   "mimetype": "text/x-python",
   "name": "python",
   "nbconvert_exporter": "python",
   "pygments_lexer": "ipython2",
   "version": "2.7.14"
  }
 },
 "nbformat": 4,
 "nbformat_minor": 1
}
