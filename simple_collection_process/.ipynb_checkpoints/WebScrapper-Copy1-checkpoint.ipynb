{
 "cells": [
  {
   "cell_type": "code",
   "execution_count": 16,
   "metadata": {},
   "outputs": [],
   "source": [
    "#import libraries\n",
    "\n",
    "import  urllib2\n",
    "\n",
    "from bs4 import BeautifulSoup\n",
    "\n",
    "import  pandas as pd\n"
   ]
  },
  {
   "cell_type": "code",
   "execution_count": 17,
   "metadata": {},
   "outputs": [],
   "source": [
    "#specify the url\n",
    "ifp_blog=\"http://ifpartners.com/cut-the-wire\"\n",
    "\n",
    "req =urllib2.Request(ifp_blog, headers={'User-Agent' : \" Magic Browser\"})\n",
    "\n",
    "try:\n",
    "    page = urllib2.urlopen(req)\n",
    "except urllib2.HTTPError, e:\n",
    "    print e\n",
    "\n",
    "soup = BeautifulSoup(page, 'html.parser')\n",
    "\n",
    "data=[]"
   ]
  },
  {
   "cell_type": "code",
   "execution_count": 18,
   "metadata": {},
   "outputs": [],
   "source": [
    "#collecting images and articles in list\n",
    "section=soup.find('section')\n",
    "\n",
    "imgs= soup.find_all('img', attrs={'class': \"attachment-post-thumbnail size-post-thumbnail wp-post-image\"})\n",
    "\n",
    "articles=soup.find_all('article')"
   ]
  },
  {
   "cell_type": "code",
   "execution_count": 27,
   "metadata": {},
   "outputs": [
    {
     "name": "stdout",
     "output_type": "stream",
     "text": [
      "DOLRuling.jpg\n",
      "markus-spiske-104910.jpg\n",
      "ProfessionalsTalking.jpg\n",
      "PantoneBooklet.jpg\n",
      "ashim-d-silva-223215.jpg\n",
      "IFPCuttheWirephotos.jpg\n",
      "Facebookadvertising.jpg\n"
     ]
    }
   ],
   "source": [
    "img_links =[each.get('src') for each in imgs]\n",
    "for each in img_links:\n",
    "    filename = each.split('/')[-1]\n",
    "        \n"
   ]
  },
  {
   "cell_type": "code",
   "execution_count": 13,
   "metadata": {},
   "outputs": [],
   "source": [
    "#looping over the list to extract desired details: Title, Updated Time, Author, Content and Banner href\n",
    "for i in range(0,6):\n",
    "    blog = [] #local list to store the details\n",
    "    article= articles[i]\n",
    "    title = article.find('header').find('h2').find('a').text.encode('ascii','ignore')\n",
    "    updateTime=article.find('time', attrs={'class' : 'updated'})['datetime']\n",
    "    author = article.find('p').find('a').text\n",
    "    content= article.find('div', attrs={'class' : 'entry-content'})\n",
    "    bannerImg= imgs[i]['src']\n",
    "    blog.extend((title, updateTime,author,content,bannerImg))\n",
    "    data.append(blog)\n"
   ]
  },
  {
   "cell_type": "code",
   "execution_count": 15,
   "metadata": {},
   "outputs": [],
   "source": [
    "#exporting the data to csv\n",
    "df = pd.DataFrame(data, columns=[\"Title\",\"Author\",\"Updated Time\",\"Content\", \"Image href\"])\n",
    "try:\n",
    "    df.to_csv('ofile_ipynb.csv', index=False)\n",
    "except e:\n",
    "    print e\n"
   ]
  }
 ],
 "metadata": {
  "kernelspec": {
   "display_name": "Python 2",
   "language": "python",
   "name": "python2"
  },
  "language_info": {
   "codemirror_mode": {
    "name": "ipython",
    "version": 2
   },
   "file_extension": ".py",
   "mimetype": "text/x-python",
   "name": "python",
   "nbconvert_exporter": "python",
   "pygments_lexer": "ipython2",
   "version": "2.7.13"
  }
 },
 "nbformat": 4,
 "nbformat_minor": 1
}
